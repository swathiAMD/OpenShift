{
  "nbformat": 4,
  "nbformat_minor": 0,
  "metadata": {
    "colab": {
      "name": "Assignment1.ipynb",
      "provenance": [],
      "collapsed_sections": [],
      "authorship_tag": "ABX9TyP5FzzZ4IMYGnoi2zy1GJV9",
      "include_colab_link": true
    },
    "kernelspec": {
      "name": "python3",
      "display_name": "Python 3"
    }
  },
  "cells": [
    {
      "cell_type": "markdown",
      "metadata": {
        "id": "view-in-github",
        "colab_type": "text"
      },
      "source": [
        "<a href=\"https://colab.research.google.com/github/swathiAMD/OpenShift/blob/master/Assignment1.ipynb\" target=\"_parent\"><img src=\"https://colab.research.google.com/assets/colab-badge.svg\" alt=\"Open In Colab\"/></a>"
      ]
    },
    {
      "cell_type": "code",
      "metadata": {
        "id": "qz2iQQRxq9FR",
        "colab_type": "code",
        "colab": {}
      },
      "source": [
        "import tensorflow as tf\n",
        "from keras.callbacks import EarlyStopping\n",
        "import pandas as pd"
      ],
      "execution_count": null,
      "outputs": []
    },
    {
      "cell_type": "code",
      "metadata": {
        "id": "j9E4WtrhoStW",
        "colab_type": "code",
        "colab": {}
      },
      "source": [
        "\n",
        "test_data = pd.read_csv(\"https://raw.githubusercontent.com/dphi-official/Datasets/master/cifar_image_flattened_pixels.csv\")"
      ],
      "execution_count": null,
      "outputs": []
    },
    {
      "cell_type": "code",
      "metadata": {
        "id": "Y6LYkuSgpdim",
        "colab_type": "code",
        "colab": {
          "base_uri": "https://localhost:8080/",
          "height": 51
        },
        "outputId": "a82fa7bd-31c3-4d24-8822-3d4411885cf4"
      },
      "source": [
        "from tensorflow.keras.datasets.cifar10 import load_data\n",
        "(x_train, y_train), (x_test, y_test) = load_data()\n",
        "\n"
      ],
      "execution_count": null,
      "outputs": [
        {
          "output_type": "stream",
          "text": [
            "Downloading data from https://www.cs.toronto.edu/~kriz/cifar-10-python.tar.gz\n",
            "170500096/170498071 [==============================] - 19s 0us/step\n"
          ],
          "name": "stdout"
        }
      ]
    },
    {
      "cell_type": "code",
      "metadata": {
        "id": "eiV8gvESpyL8",
        "colab_type": "code",
        "colab": {
          "base_uri": "https://localhost:8080/",
          "height": 972
        },
        "outputId": "9e70453d-fec4-4f1e-9a73-285876782f2e"
      },
      "source": [
        "x_train = x_train/255\n",
        "x_test = x_test/255\n",
        "x_train_flattened = x_train.reshape((len(x_train),32*32*3))\n",
        "x_test_flattened = x_test.reshape((len(x_test),32*32*3))\n",
        "in_sh = (32,32,3)\n",
        "model = tf.keras.Sequential([\n",
        "                             tf.keras.layers.Dense(100, input_shape=(3072,),activation='relu'),\n",
        "                              tf.keras.layers.Dense(100, input_shape=(3072,),activation='relu'),\n",
        "                              tf.keras.layers.Dense(10, activation='sigmoid')])\n",
        "\n",
        "model.summary()\n",
        "model.compile(optimizer='adam', loss='sparse_categorical_crossentropy',metrics=['accuracy'])\n",
        "              \n",
        "model.fit(x = x_train_flattened,y = y_train,validation_split = 0.3,epochs = 20)"
      ],
      "execution_count": null,
      "outputs": [
        {
          "output_type": "stream",
          "text": [
            "Model: \"sequential_3\"\n",
            "_________________________________________________________________\n",
            "Layer (type)                 Output Shape              Param #   \n",
            "=================================================================\n",
            "dense_9 (Dense)              (None, 100)               307300    \n",
            "_________________________________________________________________\n",
            "dense_10 (Dense)             (None, 100)               10100     \n",
            "_________________________________________________________________\n",
            "dense_11 (Dense)             (None, 10)                1010      \n",
            "=================================================================\n",
            "Total params: 318,410\n",
            "Trainable params: 318,410\n",
            "Non-trainable params: 0\n",
            "_________________________________________________________________\n",
            "Epoch 1/20\n",
            "1094/1094 [==============================] - 5s 5ms/step - loss: 2.3028 - accuracy: 0.0990 - val_loss: 2.3027 - val_accuracy: 0.0983\n",
            "Epoch 2/20\n",
            "1094/1094 [==============================] - 5s 5ms/step - loss: 2.3027 - accuracy: 0.0979 - val_loss: 2.3027 - val_accuracy: 0.0983\n",
            "Epoch 3/20\n",
            "1094/1094 [==============================] - 5s 5ms/step - loss: 2.3027 - accuracy: 0.1002 - val_loss: 2.3027 - val_accuracy: 0.0984\n",
            "Epoch 4/20\n",
            "1094/1094 [==============================] - 5s 5ms/step - loss: 2.3027 - accuracy: 0.0995 - val_loss: 2.3027 - val_accuracy: 0.0983\n",
            "Epoch 5/20\n",
            "1094/1094 [==============================] - 5s 5ms/step - loss: 2.3027 - accuracy: 0.0979 - val_loss: 2.3027 - val_accuracy: 0.0983\n",
            "Epoch 6/20\n",
            "1094/1094 [==============================] - 5s 5ms/step - loss: 2.3027 - accuracy: 0.0962 - val_loss: 2.3027 - val_accuracy: 0.0983\n",
            "Epoch 7/20\n",
            "1094/1094 [==============================] - 5s 5ms/step - loss: 2.3027 - accuracy: 0.1001 - val_loss: 2.3027 - val_accuracy: 0.0984\n",
            "Epoch 8/20\n",
            "1094/1094 [==============================] - 5s 5ms/step - loss: 2.3027 - accuracy: 0.0986 - val_loss: 2.3027 - val_accuracy: 0.0984\n",
            "Epoch 9/20\n",
            "1094/1094 [==============================] - 5s 5ms/step - loss: 2.3027 - accuracy: 0.0989 - val_loss: 2.3027 - val_accuracy: 0.0984\n",
            "Epoch 10/20\n",
            "1094/1094 [==============================] - 5s 4ms/step - loss: 2.3027 - accuracy: 0.0985 - val_loss: 2.3027 - val_accuracy: 0.0979\n",
            "Epoch 11/20\n",
            "1094/1094 [==============================] - 5s 5ms/step - loss: 2.3027 - accuracy: 0.0987 - val_loss: 2.3027 - val_accuracy: 0.0984\n",
            "Epoch 12/20\n",
            "1094/1094 [==============================] - 5s 5ms/step - loss: 2.3027 - accuracy: 0.0961 - val_loss: 2.3027 - val_accuracy: 0.0984\n",
            "Epoch 13/20\n",
            "1094/1094 [==============================] - 5s 5ms/step - loss: 2.3027 - accuracy: 0.1001 - val_loss: 2.3027 - val_accuracy: 0.0979\n",
            "Epoch 14/20\n",
            "1094/1094 [==============================] - 5s 5ms/step - loss: 2.3027 - accuracy: 0.0965 - val_loss: 2.3027 - val_accuracy: 0.0983\n",
            "Epoch 15/20\n",
            "1094/1094 [==============================] - 5s 5ms/step - loss: 2.3027 - accuracy: 0.0977 - val_loss: 2.3027 - val_accuracy: 0.0979\n",
            "Epoch 16/20\n",
            "1094/1094 [==============================] - 5s 5ms/step - loss: 2.3027 - accuracy: 0.0981 - val_loss: 2.3027 - val_accuracy: 0.0983\n",
            "Epoch 17/20\n",
            "1094/1094 [==============================] - 5s 5ms/step - loss: 2.3027 - accuracy: 0.0991 - val_loss: 2.3027 - val_accuracy: 0.0983\n",
            "Epoch 18/20\n",
            "1094/1094 [==============================] - 5s 5ms/step - loss: 2.3027 - accuracy: 0.0974 - val_loss: 2.3027 - val_accuracy: 0.0983\n",
            "Epoch 19/20\n",
            "1094/1094 [==============================] - 5s 5ms/step - loss: 2.3027 - accuracy: 0.0986 - val_loss: 2.3027 - val_accuracy: 0.0984\n",
            "Epoch 20/20\n",
            "1094/1094 [==============================] - 5s 5ms/step - loss: 2.3027 - accuracy: 0.0994 - val_loss: 2.3027 - val_accuracy: 0.0979\n"
          ],
          "name": "stdout"
        },
        {
          "output_type": "execute_result",
          "data": {
            "text/plain": [
              "<tensorflow.python.keras.callbacks.History at 0x7ff218c31f60>"
            ]
          },
          "metadata": {
            "tags": []
          },
          "execution_count": 14
        }
      ]
    }
  ]
}